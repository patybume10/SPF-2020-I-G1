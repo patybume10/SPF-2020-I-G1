{
 "cells": [
  {
   "cell_type": "markdown",
   "metadata": {},
   "source": [
    "<img style=\"float: left; margin: 30px 15px 15px 15px;\" src=\"https://pngimage.net/wp-content/uploads/2018/06/logo-iteso-png-5.png\" width=\"300\" height=\"500\" /> \n",
    "    \n",
    "    \n",
    "### <font color='navy'> Simulación de procesos financieros. \n",
    "\n",
    "**Nombres:** Patricia Buenrostro Mendez.\n",
    "\n",
    "**Fecha:** 24 de marzo del 2020.\n",
    "\n",
    "**Expediente** : IF715066.\n",
    "**Profesor:** Oscar David Jaramillo Zuloaga.\n",
    "\n",
    "# Tarea 8: Clase 13"
   ]
  },
  {
   "cell_type": "markdown",
   "metadata": {},
   "source": [
    "Aproxime el valor de la siguiente integral usando el método monte carlo crudo y método de reducción de varianza de muestreo estratíficado\n",
    "\n",
    "$$I=\\int_{0}^{1}x^2\\text{d}x=\\left.\\frac{x^3}{3}\\right|_{x=0}^{x=1}=\\frac{1}{3}\\approx 0.33333$$\n",
    "\n",
    "Pasos\n",
    "1. Cree una función que realice el método de muestreo estratíficado, recibiendo como único parámetro de entrada la cantidad de estratos y retornando las variables estratíficadas correspondientes.\n",
    "2. Reporte los resultados de la aproximación de la integral usando montecarlo crudo y muestreo estratíficado, en un Dataframe con la información mostrada en la siguiente imagen"
   ]
  },
  {
   "cell_type": "code",
   "execution_count": 1,
   "metadata": {},
   "outputs": [],
   "source": [
    "import numpy as np \n",
    "import matplotlib.pyplot as plt\n",
    "import pandas as pd \n",
    "import scipy.optimize as opt \n",
    "import time\n",
    "from functools import reduce"
   ]
  },
  {
   "cell_type": "markdown",
   "metadata": {},
   "source": [
    "1. Cree una función que realice el método de muestreo estratíficado, recibiendo como único parámetro de entrada la cantidad de estratos y retornando las variables estratíficadas correspondientes."
   ]
  },
  {
   "cell_type": "code",
   "execution_count": 2,
   "metadata": {},
   "outputs": [],
   "source": [
    "# Integración montecarlo\n",
    "def int_montecarlo(f:'Función a integrar',\n",
    "                   a:'Límite inferior de la integral',\n",
    "                   b:'Límite superior de la integral',\n",
    "                   U:'Muestra de números U~[a,b]'):\n",
    "    return (b-a)/len(U)*np.sum(f(U))"
   ]
  },
  {
   "cell_type": "code",
   "execution_count": 3,
   "metadata": {},
   "outputs": [],
   "source": [
    "def U2(B):\n",
    "    U2 = np.random.rand(B)\n",
    "    i = np.arange(0,B)\n",
    "    return (U2+i)/B"
   ]
  },
  {
   "cell_type": "code",
   "execution_count": 4,
   "metadata": {},
   "outputs": [
    {
     "data": {
      "text/html": [
       "<div>\n",
       "<style scoped>\n",
       "    .dataframe tbody tr th:only-of-type {\n",
       "        vertical-align: middle;\n",
       "    }\n",
       "\n",
       "    .dataframe tbody tr th {\n",
       "        vertical-align: top;\n",
       "    }\n",
       "\n",
       "    .dataframe thead th {\n",
       "        text-align: right;\n",
       "    }\n",
       "</style>\n",
       "<table border=\"1\" class=\"dataframe\">\n",
       "  <thead>\n",
       "    <tr style=\"text-align: right;\">\n",
       "      <th></th>\n",
       "      <th>Montecarlo_Crudo</th>\n",
       "      <th>Error_relativo 1%</th>\n",
       "      <th>Muestreo_Estratificado</th>\n",
       "      <th>Error_relativo 2%</th>\n",
       "    </tr>\n",
       "    <tr>\n",
       "      <th>Cantidad_terminos</th>\n",
       "      <th></th>\n",
       "      <th></th>\n",
       "      <th></th>\n",
       "      <th></th>\n",
       "    </tr>\n",
       "  </thead>\n",
       "  <tbody>\n",
       "    <tr>\n",
       "      <td>10</td>\n",
       "      <td>0.346619</td>\n",
       "      <td>3.985558</td>\n",
       "      <td>0.319104</td>\n",
       "      <td>4.268783e+00</td>\n",
       "    </tr>\n",
       "    <tr>\n",
       "      <td>100</td>\n",
       "      <td>0.342788</td>\n",
       "      <td>2.836470</td>\n",
       "      <td>0.333001</td>\n",
       "      <td>9.970875e-02</td>\n",
       "    </tr>\n",
       "    <tr>\n",
       "      <td>1000</td>\n",
       "      <td>0.343405</td>\n",
       "      <td>3.021365</td>\n",
       "      <td>0.333323</td>\n",
       "      <td>3.046903e-03</td>\n",
       "    </tr>\n",
       "    <tr>\n",
       "      <td>10000</td>\n",
       "      <td>0.339582</td>\n",
       "      <td>1.874658</td>\n",
       "      <td>0.333334</td>\n",
       "      <td>9.991901e-05</td>\n",
       "    </tr>\n",
       "    <tr>\n",
       "      <td>100000</td>\n",
       "      <td>0.332587</td>\n",
       "      <td>0.223893</td>\n",
       "      <td>0.333333</td>\n",
       "      <td>7.523848e-07</td>\n",
       "    </tr>\n",
       "    <tr>\n",
       "      <td>1000000</td>\n",
       "      <td>0.332787</td>\n",
       "      <td>0.163877</td>\n",
       "      <td>0.333333</td>\n",
       "      <td>1.923143e-08</td>\n",
       "    </tr>\n",
       "    <tr>\n",
       "      <td>10000000</td>\n",
       "      <td>0.333318</td>\n",
       "      <td>0.004650</td>\n",
       "      <td>0.333333</td>\n",
       "      <td>4.227152e-09</td>\n",
       "    </tr>\n",
       "  </tbody>\n",
       "</table>\n",
       "</div>"
      ],
      "text/plain": [
       "                   Montecarlo_Crudo  Error_relativo 1%  \\\n",
       "Cantidad_terminos                                        \n",
       "10                         0.346619           3.985558   \n",
       "100                        0.342788           2.836470   \n",
       "1000                       0.343405           3.021365   \n",
       "10000                      0.339582           1.874658   \n",
       "100000                     0.332587           0.223893   \n",
       "1000000                    0.332787           0.163877   \n",
       "10000000                   0.333318           0.004650   \n",
       "\n",
       "                   Muestreo_Estratificado  Error_relativo 2%  \n",
       "Cantidad_terminos                                             \n",
       "10                               0.319104       4.268783e+00  \n",
       "100                              0.333001       9.970875e-02  \n",
       "1000                             0.333323       3.046903e-03  \n",
       "10000                            0.333334       9.991901e-05  \n",
       "100000                           0.333333       7.523848e-07  \n",
       "1000000                          0.333333       1.923143e-08  \n",
       "10000000                         0.333333       4.227152e-09  "
      ]
     },
     "execution_count": 4,
     "metadata": {},
     "output_type": "execute_result"
    }
   ],
   "source": [
    "I = 1/3\n",
    "# intervalo de integración\n",
    "a = 0; b = 1\n",
    "\n",
    "# Cantidad de términos, en escala logarítmica\n",
    "N = np.logspace(1,7,7,dtype=int)\n",
    "\n",
    "# Definimos la tabla donde se mostrarán los resultados\n",
    "df = pd.DataFrame(index=N,columns=['Montecarlo_Crudo', 'Error_relativo 1%','Muestreo_Estratificado', 'Error_relativo 2%'], dtype='float')\n",
    "df.index.name = \"Cantidad_terminos\"\n",
    "\n",
    "# Números aleatorios dependiente de la cantidad de términos N\n",
    "ui = list(map(lambda N:np.random.uniform(a,b,N),N))\n",
    "\n",
    "ui_e = list(map(lambda x: U2(x), N))\n",
    "\n",
    "# Calculamos la aproximación por montecarlo dependiendo de la cantidad de\n",
    "# términos que hayamos creado con ui\n",
    "I_m = list(map(lambda Y:int_montecarlo(lambda x:x**2,a,b,Y),ui))\n",
    "fx = lambda x: x**2\n",
    "I_m_estr = list(map(lambda Y:fx(Y),ui_e))\n",
    "I_m_estr = list(map(lambda Y:np.mean(Y),I_m_estr))\n",
    "\n",
    "\n",
    "# Mostramos los resultados en la tabla previamente creada\n",
    "df.loc[N,'Montecarlo_Crudo'] = I_m\n",
    "df.loc[N,\"Error_relativo 1%\"] = np.abs(df.loc[N,\"Montecarlo_Crudo\"]-I)*100/I\n",
    "df.loc[N,\"Muestreo_Estratificado\"] = I_m_estr\n",
    "df.loc[N,\"Error_relativo 2%\"] = np.abs(df.loc[N,\"Muestreo_Estratificado\"]-I)*100/I\n",
    "\n",
    "df"
   ]
  },
  {
   "cell_type": "code",
   "execution_count": null,
   "metadata": {},
   "outputs": [],
   "source": []
  }
 ],
 "metadata": {
  "kernelspec": {
   "display_name": "Python 3",
   "language": "python",
   "name": "python3"
  },
  "language_info": {
   "codemirror_mode": {
    "name": "ipython",
    "version": 3
   },
   "file_extension": ".py",
   "mimetype": "text/x-python",
   "name": "python",
   "nbconvert_exporter": "python",
   "pygments_lexer": "ipython3",
   "version": "3.7.4"
  }
 },
 "nbformat": 4,
 "nbformat_minor": 2
}
